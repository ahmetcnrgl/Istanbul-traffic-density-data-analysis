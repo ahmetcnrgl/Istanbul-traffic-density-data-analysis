{
  "nbformat": 4,
  "nbformat_minor": 0,
  "metadata": {
    "colab": {
      "provenance": []
    },
    "kernelspec": {
      "name": "python3",
      "display_name": "Python 3"
    },
    "language_info": {
      "name": "python"
    }
  },
  "cells": [
    {
      "cell_type": "code",
      "execution_count": 1,
      "metadata": {
        "colab": {
          "base_uri": "https://localhost:8080/"
        },
        "id": "BDeWnfYcFTYl",
        "outputId": "c2d93be6-a8d8-460a-c7d7-c4313e2e4018"
      },
      "outputs": [
        {
          "output_type": "stream",
          "name": "stdout",
          "text": [
            "Requirement already satisfied: pandas in /usr/local/lib/python3.11/dist-packages (2.2.2)\n",
            "Requirement already satisfied: scikit-learn in /usr/local/lib/python3.11/dist-packages (1.6.1)\n",
            "Requirement already satisfied: matplotlib in /usr/local/lib/python3.11/dist-packages (3.10.0)\n",
            "Requirement already satisfied: seaborn in /usr/local/lib/python3.11/dist-packages (0.13.2)\n",
            "Requirement already satisfied: plotly in /usr/local/lib/python3.11/dist-packages (5.24.1)\n",
            "Requirement already satisfied: folium in /usr/local/lib/python3.11/dist-packages (0.19.7)\n",
            "Requirement already satisfied: numpy>=1.23.2 in /usr/local/lib/python3.11/dist-packages (from pandas) (2.0.2)\n",
            "Requirement already satisfied: python-dateutil>=2.8.2 in /usr/local/lib/python3.11/dist-packages (from pandas) (2.9.0.post0)\n",
            "Requirement already satisfied: pytz>=2020.1 in /usr/local/lib/python3.11/dist-packages (from pandas) (2025.2)\n",
            "Requirement already satisfied: tzdata>=2022.7 in /usr/local/lib/python3.11/dist-packages (from pandas) (2025.2)\n",
            "Requirement already satisfied: scipy>=1.6.0 in /usr/local/lib/python3.11/dist-packages (from scikit-learn) (1.15.3)\n",
            "Requirement already satisfied: joblib>=1.2.0 in /usr/local/lib/python3.11/dist-packages (from scikit-learn) (1.5.1)\n",
            "Requirement already satisfied: threadpoolctl>=3.1.0 in /usr/local/lib/python3.11/dist-packages (from scikit-learn) (3.6.0)\n",
            "Requirement already satisfied: contourpy>=1.0.1 in /usr/local/lib/python3.11/dist-packages (from matplotlib) (1.3.2)\n",
            "Requirement already satisfied: cycler>=0.10 in /usr/local/lib/python3.11/dist-packages (from matplotlib) (0.12.1)\n",
            "Requirement already satisfied: fonttools>=4.22.0 in /usr/local/lib/python3.11/dist-packages (from matplotlib) (4.58.1)\n",
            "Requirement already satisfied: kiwisolver>=1.3.1 in /usr/local/lib/python3.11/dist-packages (from matplotlib) (1.4.8)\n",
            "Requirement already satisfied: packaging>=20.0 in /usr/local/lib/python3.11/dist-packages (from matplotlib) (24.2)\n",
            "Requirement already satisfied: pillow>=8 in /usr/local/lib/python3.11/dist-packages (from matplotlib) (11.2.1)\n",
            "Requirement already satisfied: pyparsing>=2.3.1 in /usr/local/lib/python3.11/dist-packages (from matplotlib) (3.2.3)\n",
            "Requirement already satisfied: tenacity>=6.2.0 in /usr/local/lib/python3.11/dist-packages (from plotly) (9.1.2)\n",
            "Requirement already satisfied: branca>=0.6.0 in /usr/local/lib/python3.11/dist-packages (from folium) (0.8.1)\n",
            "Requirement already satisfied: jinja2>=2.9 in /usr/local/lib/python3.11/dist-packages (from folium) (3.1.6)\n",
            "Requirement already satisfied: requests in /usr/local/lib/python3.11/dist-packages (from folium) (2.32.3)\n",
            "Requirement already satisfied: xyzservices in /usr/local/lib/python3.11/dist-packages (from folium) (2025.4.0)\n",
            "Requirement already satisfied: MarkupSafe>=2.0 in /usr/local/lib/python3.11/dist-packages (from jinja2>=2.9->folium) (3.0.2)\n",
            "Requirement already satisfied: six>=1.5 in /usr/local/lib/python3.11/dist-packages (from python-dateutil>=2.8.2->pandas) (1.17.0)\n",
            "Requirement already satisfied: charset-normalizer<4,>=2 in /usr/local/lib/python3.11/dist-packages (from requests->folium) (3.4.2)\n",
            "Requirement already satisfied: idna<4,>=2.5 in /usr/local/lib/python3.11/dist-packages (from requests->folium) (3.10)\n",
            "Requirement already satisfied: urllib3<3,>=1.21.1 in /usr/local/lib/python3.11/dist-packages (from requests->folium) (2.4.0)\n",
            "Requirement already satisfied: certifi>=2017.4.17 in /usr/local/lib/python3.11/dist-packages (from requests->folium) (2025.4.26)\n"
          ]
        }
      ],
      "source": [
        "!pip install pandas scikit-learn matplotlib seaborn plotly folium"
      ]
    },
    {
      "cell_type": "code",
      "source": [
        "import pandas as pd\n",
        "\n",
        "df = pd.read_csv('traffic_density_202501.csv')\n",
        "\n",
        "df['Tarih_Saat'] = pd.to_datetime(df['DATE_TIME'])\n",
        "\n",
        "df['Saat'] = df['Tarih_Saat'].dt.hour\n",
        "df['Gun_Adi'] = df['Tarih_Saat'].dt.day_name()\n",
        "df['Hafta_Ici_Sonu'] = df['Tarih_Saat'].dt.dayofweek.apply(lambda x: 1 if x >= 5 else 0) # 0: Hafta İçi, 1: Hafta Sonu\n",
        "\n",
        "print(\"Eksik değerler:\\n\", df.isnull().sum())\n",
        "df.dropna(inplace=True)\n",
        "\n",
        "features = ['LATITUDE', 'LONGITUDE', 'AVERAGE_SPEED', 'MINIMUM_SPEED', 'MAXIMUM_SPEED', 'NUMBER_OF_VEHICLES', 'Saat', 'Hafta_Ici_Sonu']\n",
        "\n",
        "\n",
        "X = df[features]\n",
        "\n",
        "print(\"\\nSeçilen özellikler ile DataFrame'in ilk 5 satırı:\")\n",
        "print(X.head())"
      ],
      "metadata": {
        "id": "DXxeczx_GHUk"
      },
      "execution_count": null,
      "outputs": []
    },
    {
      "cell_type": "code",
      "source": [
        "from sklearn.preprocessing import StandardScaler\n",
        "\n",
        "# StandardScaler kullanarak veriyi ölçekleme\n",
        "scaler = StandardScaler()\n",
        "X_scaled = scaler.fit_transform(X)\n",
        "\n",
        "# Ölçeklenmiş veriyi DataFrame'e geri çevirme\n",
        "X_scaled_df = pd.DataFrame(X_scaled, columns=X.columns)\n",
        "\n",
        "print(\"Ölçeklenmiş verinin ilk 5 satırı:\")\n",
        "print(X_scaled_df.head())"
      ],
      "metadata": {
        "id": "ibA42Z_0GKW0"
      },
      "execution_count": null,
      "outputs": []
    },
    {
      "cell_type": "code",
      "source": [
        "from sklearn.cluster import KMeans\n",
        "import matplotlib.pyplot as plt\n",
        "import seaborn as sns\n",
        "import numpy as np\n",
        "\n",
        "# Veri setinin boyutunu kontrol edelim\n",
        "print(f\"X_reduced veri setinin boyutu (satır, sütun): {X_reduced.shape}\")\n",
        "\n",
        "\n",
        "sample_size = min(len(X_reduced), 100000) # Maksimum 100.000 satır veya mevcut tüm veri\n",
        "if len(X_reduced) > sample_size:\n",
        "    print(f\"Elbow metodu için veri setinden {sample_size} satırlık bir örneklem alınıyor.\")\n",
        "\n",
        "    random_indices = np.random.choice(X_reduced.shape[0], sample_size, replace=False)\n",
        "    X_reduced_sampled = X_reduced[random_indices]\n",
        "else:\n",
        "    X_reduced_sampled = X_reduced\n",
        "    print(\"Elbow metodu için tüm veri seti kullanılıyor (zaten yeterince küçük).\")\n",
        "\n",
        "\n",
        "\n",
        "wcss = []\n",
        "for i in range(1, 11):\n",
        "    kmeans = KMeans(n_clusters=i, init='k-means++', max_iter=300, n_init=10, random_state=42)\n",
        "    kmeans.fit(X_reduced_sampled)\n",
        "    wcss.append(kmeans.inertia_)\n",
        "\n",
        "# Elbow metodunu görselleştirme\n",
        "plt.figure(figsize=(10, 6))\n",
        "plt.plot(range(1, 11), wcss, marker='o', linestyle='--')\n",
        "plt.title('Elbow Metodu ile Optimal Küme Sayısı (Örneklenmiş Veri Üzerinde)')\n",
        "plt.xlabel('Küme Sayısı (k)')\n",
        "plt.ylabel('WCSS (Küme İçi Kareler Toplamı)')\n",
        "plt.grid(True)\n",
        "plt.show()\n",
        "\n",
        "optimal_k = 4\n",
        "\n",
        "\n",
        "print(f\"\\nOptimal k={optimal_k} değeri ile K-Means tüm X_reduced veri seti üzerinde çalıştırılıyor...\")\n",
        "kmeans = KMeans(n_clusters=optimal_k, init='k-means++', max_iter=300, n_init=10, random_state=42)\n",
        "clusters = kmeans.fit_predict(X_reduced)\n",
        "\n",
        "df['Cluster'] = clusters\n",
        "\n",
        "print(f\"\\nVeri setine {optimal_k} küme atanmıştır.\")\n",
        "print(\"Her kümedeki veri sayısı:\\n\", df['Cluster'].value_counts())"
      ],
      "metadata": {
        "id": "mn5lin_qGNqo"
      },
      "execution_count": null,
      "outputs": []
    },
    {
      "cell_type": "code",
      "source": [
        "from sklearn.decomposition import PCA\n",
        "import matplotlib.pyplot as plt\n",
        "import seaborn as sns\n",
        "\n",
        "if X_reduced.shape[1] > 2:\n",
        "    pca_viz = PCA(n_components=2, random_state=42)\n",
        "    principal_components = pca_viz.fit_transform(X_reduced)\n",
        "else: # Eğer X_reduced zaten 2 boyutlu ise\n",
        "    principal_components = X_reduced\n",
        "\n",
        "# İndirgenmiş boyutları bir DataFrame'e dönüştürme\n",
        "pca_df = pd.DataFrame(data=principal_components, columns=['PC1', 'PC2'])\n",
        "pca_df['Cluster'] = df['Cluster'] # Küme etiketlerini ekleme\n",
        "\n",
        "# PCA sonuçlarını kümelere göre görselleştirme\n",
        "plt.figure(figsize=(12, 8))\n",
        "sns.scatterplot(x='PC1', y='PC2', hue='Cluster', data=pca_df,\n",
        "                palette='viridis', s=100, alpha=0.7)\n",
        "plt.title('PCA ile Boyut İndirgenmiş Verinin Kümelere Göre Dağılımı')\n",
        "plt.xlabel('Birincil Bileşen 1 (PC1)')\n",
        "plt.ylabel('Birincil Bileşen 2 (PC2)')\n",
        "plt.grid(True)\n",
        "plt.legend(title='Küme')\n",
        "plt.show()"
      ],
      "metadata": {
        "id": "Ka-FtpohGT0K"
      },
      "execution_count": null,
      "outputs": []
    },
    {
      "cell_type": "code",
      "source": [
        "import folium\n",
        "\n",
        "# İstanbul'un ortalama koordinatları (haritanın merkezini belirlemek için)\n",
        "istanbul_lat = df['LATITUDE'].mean()\n",
        "istanbul_lon = df['LONGITUDE'].mean()\n",
        "\n",
        "# Harita oluşturma\n",
        "m = folium.Map(location=[istanbul_lat, istanbul_lon], zoom_start=10)\n",
        "\n",
        "\n",
        "colors = ['red', 'blue', 'green', 'purple', 'orange', 'darkred', 'lightred', 'beige', 'darkblue', 'darkgreen',\n",
        "          'cadetblue', 'pink', 'lightblue', 'lightgreen', 'gray', 'black', 'lightgray', 'darkpurple', 'white']\n",
        "\n",
        "sample_df_for_map = df.sample(n=min(len(df), 100000), random_state=42) # Max 100k nokta göster\n",
        "\n",
        "for index, row in sample_df_for_map.iterrows():\n",
        "    folium.CircleMarker(\n",
        "        location=[row['LATITUDE'], row['LONGITUDE']],\n",
        "        radius=3, # Nokta boyutu\n",
        "        color=colors[row['Cluster'] % len(colors)], # Küme numarasına göre renk\n",
        "        fill=True,\n",
        "        fill_color=colors[row['Cluster'] % len(colors)],\n",
        "        fill_opacity=0.7,\n",
        "        # Araç sayısı ve Ortalama Hız bilgilerini tooltip olarak ekledim\n",
        "        tooltip=f\"Küme: {row['Cluster']}<br>Araç Sayısı: {row['NUMBER_OF_VEHICLES']}<br>Ortalama Hız: {row['AVERAGE_SPEED']}\"\n",
        "    ).add_to(m)\n",
        "\n",
        "# Haritayı Colab çıktısında gösterme\n",
        "m"
      ],
      "metadata": {
        "id": "24glY1R6GYY3"
      },
      "execution_count": null,
      "outputs": []
    },
    {
      "cell_type": "code",
      "source": [
        "cluster_means = df.groupby('Cluster')[['LATITUDE', 'LONGITUDE', 'AVERAGE_SPEED', 'MINIMUM_SPEED', 'MAXIMUM_SPEED', 'NUMBER_OF_VEHICLES', 'Saat', 'Hafta_Ici_Sonu']].mean()\n",
        "print(\"\\nHer kümenin ortalama özellikleri:\\n\", cluster_means)"
      ],
      "metadata": {
        "id": "P-RRIrVfGb9G"
      },
      "execution_count": null,
      "outputs": []
    }
  ]
}